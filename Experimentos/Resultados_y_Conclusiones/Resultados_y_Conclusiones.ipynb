{
  "nbformat": 4,
  "nbformat_minor": 0,
  "metadata": {
    "colab": {
      "provenance": []
    },
    "kernelspec": {
      "name": "python3",
      "display_name": "Python 3"
    },
    "language_info": {
      "name": "python"
    }
  },
  "cells": [
    {
      "cell_type": "markdown",
      "source": [
        "Los resultados y conclusiones obtenidas de este proyecto son las siguientes:\n",
        "\n",
        "- El r2 fue muy bajo, presentando un valor menor al 10% (-0.075), lo cual indica un modelo desajustado que no dista mucho de un sistema de predicción aleatoria.\n",
        "\n",
        "\n",
        "- Ahora si nos vamos al MSE y MAE podemos ver que sus valores son bastante buenos considerando las magnitudes que maneja mi variable objetivo, ya que esta corresponde a puntuaciones de un ranking que va de 1 al 5 para calificar aplicaciones de google play store. Un error de 0.2 o 0.3 respecto al valor real no representaria un cambio significativo como para cambiar de opinion si la aplicacion es buena o mala.\n",
        "  \n",
        "ej:\n",
        "Valor real: 4.5\n",
        "\n",
        "MAE = 0,3 entonces el error podria ser 4.8 o 4.2. Ambos son buenos puntajes y se acercan al 4.5\n",
        "\n",
        "MSE = 0.2 entonces el error podria ser 4.7 o 4.3. Ambos son buenos puntajes y se acercan al 4.5\n",
        "\n",
        "\n",
        "- Se usaron dos modelos de regresion, uno lineal simple (LinearRegressor) y otro de arbol de boosting (GradientBoostingRegressor). El último es más complejo que el primero, por lo tanto probablemente ocupará mayor recursos computacionales. Como la idea es hacer el codigo lo más liviano y sencillo posible y los valores de las metricas eran casi iguales se opto por el regresor lineal para usarlo en el prototipo.\n",
        "\n",
        "\n",
        "- Ante el bajo r2 obtenido tenemos dos posibilidades:\n",
        "\n",
        "1.- La primera es descartar el modelo debido al bajo valor.\n",
        "\n",
        "2.- La segunda opción es probar con todas las combinaciones de columnas posibles para ver cuales me dan mejor score y eliminar las que bajan mi rendimiento. También puedo agregarle variables y probar si esto puede aumentar mi r2. Lo otro que ayudaría seria agregar muestras, ya que los modelos de regression aprenden y se ajustan en base a información historica, y quizas un modelo desajustado como este necesita mayor cantidad de muestras para poder aprender correctamente.\n",
        "\n",
        "\n",
        "- Frente a las dos opciones anteriores para aumentar el r2, si un mayor numero de muestras no genera un cambio, habrá que elegir la primera, ya que un r2 tan bajo es muy dificil subirlo a un 0.6 o 0.7, los cuales serían valores aceptables para un buen modelo.\n",
        "\n"
      ],
      "metadata": {
        "id": "PvnalOOO7p8g"
      }
    },
    {
      "cell_type": "code",
      "source": [],
      "metadata": {
        "id": "kkBa2qP1R1BM"
      },
      "execution_count": null,
      "outputs": []
    }
  ]
}