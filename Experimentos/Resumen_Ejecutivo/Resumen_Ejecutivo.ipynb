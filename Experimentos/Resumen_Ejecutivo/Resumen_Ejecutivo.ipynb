{
  "nbformat": 4,
  "nbformat_minor": 0,
  "metadata": {
    "colab": {
      "provenance": []
    },
    "kernelspec": {
      "name": "python3",
      "display_name": "Python 3"
    },
    "language_info": {
      "name": "python"
    }
  },
  "cells": [
    {
      "cell_type": "markdown",
      "source": [
        "## Resumen Ejecutivo\n",
        "\n",
        "Objetivos:\n",
        "- Predecir el ranking que se le otorgara a las aplicaciones desarrolladas para google play store.\n",
        "- Con la información obtenida se pretende tomar decisiones, tales como si seguir desarrollando la aplicación o simplemente descartarla para ocupar ese tiempo en mejorar una con un puntaje medio a alto.\n",
        "- Sacar el modelo a produccion en un plazo de 1 mes. Cumplido este plazo evaluar si se sigue o no mejorando el modelo en base a las metricas obtenidas y potenciales mejoras que se le puedan hacer.\n",
        "\n",
        "Tecnologia:\n",
        "\n",
        "- La tecnología usada para este proyecto es el lenguaje de programación python, usando modelos de machine learning, especificamente un modelo supervisado lineal de regresión. Esto quiere decir que yo tengo una variable que quiero predecir (en este caso el puntaje) y que en base a información historica (ingresada al modelo mediante codigo python) este proyectará las predicciones.\n",
        "\n",
        "El proyecto consta de una estructura dividida en varias carpetas:\n",
        "\n",
        "1.- Data: Contiene el dataset \"crudo\", el dataset limpio resultante del EDA y limpieza de datos, y los dataframe preprocesados utilizados para entrenar el modelo y predecir.\n",
        "\n",
        "2.- Categorizador: En esta carpeta se guarda el archivo .py con toda la información del codigo que se llevara a producción.\n",
        "\n",
        "3.- Model: Carpeta donde se almacena un archivo .py con el modelo\n",
        "\n",
        "4.- Experimentos: Carpeta que contiene todos los notebooks Jupyter usados para analizar el dataset, limpiarlo, preprocesar la data limpia, y generar el modelo.\n",
        "Acá se analiza cada aspecto del dataset y del modelo y sus predicciones.\n",
        "Sus notebooks que la conforman son:\n",
        "\n",
        "- EDA y Limpieza de Datos: Se detectan duplicados, datos atipicos, datos nulos, se realiza la limpieza del dataset, se realizan graficos para visualizar de forma más facil la naturaleza del set de datos y sacar conclusiones valiosas al respecto, se prueban diferentes codigos para luego elegir el mejor y llevarlo al archivo Jupyter Prototipo que luego se convertira en el archivo .py almacenado en la carpeta Categorizador.\n",
        "\n",
        "- Model: Se realiza el preprocesado, modelado y predicción de los datos. Se prueban diferentes tecnicas para optimizar el rendimiento del modelo y luego pasar el resultado final al Jupyter prototipo.\n",
        "\n",
        "- Prototipo: Notebook que recopila todo el codigo productivo, con los mejores codigos elegidos resultantes del analisis en los notebook del EDA y de Model.\n",
        "\n",
        "- Resultados y Conclusiones: Se plantean las conclusiones y resultados obtenidos durante la realización del proyecto, de forma que se pueda decidir si seguir o no con esté.\n",
        "\n",
        "5.- La api.py\n",
        "\n",
        "6.- El \"README.md\n",
        "\n",
        "7.- El requierements.txt: Archivo que contiene todos los requerimientos para correr el modelo.\n"
      ],
      "metadata": {
        "id": "PTTRLmR3QFz_"
      }
    }
  ]
}